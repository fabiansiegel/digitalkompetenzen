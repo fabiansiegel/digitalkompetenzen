{
  "nbformat": 4,
  "nbformat_minor": 0,
  "metadata": {
    "orig_nbformat": 4,
    "language_info": {
      "name": "python",
      "version": "3.8.8",
      "mimetype": "text/x-python",
      "codemirror_mode": {
        "name": "ipython",
        "version": 3
      },
      "pygments_lexer": "ipython3",
      "nbconvert_exporter": "python",
      "file_extension": ".py"
    },
    "kernelspec": {
      "name": "python3",
      "display_name": "Python 3.8.8 64-bit ('base': conda)"
    },
    "interpreter": {
      "hash": "1cf69f9cf708e763226d457923ea0d3e7f740cfe4654fb3f427b455f0a6ed673"
    },
    "colab": {
      "name": "digitalkompetenzen_datascience_musterloesung_01.ipynb",
      "provenance": [],
      "include_colab_link": true
    }
  },
  "cells": [
    {
      "cell_type": "markdown",
      "metadata": {
        "id": "view-in-github",
        "colab_type": "text"
      },
      "source": [
        "<a href=\"https://colab.research.google.com/github/fabiansiegel/digitalkompetenzen/blob/main/musterloesung_datascience.ipynb\" target=\"_parent\"><img src=\"https://colab.research.google.com/assets/colab-badge.svg\" alt=\"Open In Colab\"/></a>"
      ]
    },
    {
      "cell_type": "markdown",
      "metadata": {
        "id": "MuaMfd7DAdnE"
      },
      "source": [
        "## Initialisierung"
      ]
    },
    {
      "cell_type": "code",
      "metadata": {
        "id": "3clkk64PAdnI"
      },
      "source": [
        "# Packages installieren (ggf. beim ersten Lauf aktivieren, danach auskommentieren)\n",
        "#!pip install pandas\n",
        "#!pip install arrow\n",
        "#!pip install folium\n",
        "#!pip install matplotlib\n",
        "#!pip install scipy\n",
        "#!pip install seaborn\n",
        "\n",
        "import pandas as pd\n",
        "import datetime\n",
        "import folium as fol\n",
        "from folium.plugins import MarkerCluster\n",
        "import matplotlib.pyplot as plt\n",
        "import math\n",
        "import arrow\n",
        "from scipy.stats import chi2_contingency\n",
        "import seaborn as sns\n"
      ],
      "execution_count": null,
      "outputs": []
    },
    {
      "cell_type": "markdown",
      "metadata": {
        "id": "L8OcBzlVAdnJ"
      },
      "source": [
        "## Data Prep"
      ]
    },
    {
      "cell_type": "markdown",
      "metadata": {
        "id": "6_4fun_eAdnK"
      },
      "source": [
        "### Patientenstammdaten laden"
      ]
    },
    {
      "cell_type": "code",
      "metadata": {
        "id": "5RVbzxdOAdnK"
      },
      "source": [
        "base_url=\"https://raw.githubusercontent.com/miracum/c19ss2021/master/uebung-5/\"\n",
        "dateparse = lambda x: datetime.datetime.strptime(x, '%Y-%m-%d')\n",
        "patientsBielefeld=pd.read_csv(base_url+\"rohdaten/bielefeld/csv/patients.csv\", parse_dates=['BIRTHDATE'], date_parser=dateparse)\n",
        "patientsBielefeld.head()"
      ],
      "execution_count": null,
      "outputs": []
    },
    {
      "cell_type": "markdown",
      "metadata": {
        "id": "0nVQE64aAdnM"
      },
      "source": [
        "### Geovisualisierung der Patientenstammdaten"
      ]
    },
    {
      "cell_type": "code",
      "metadata": {
        "id": "_O14BxXVAdnN"
      },
      "source": [
        "# import folium as fol\n",
        "# from folium.plugins import MarkerCluster\n",
        "\n",
        "\n",
        "standortListeBielefeld=[] # für die Speicherung der Koordinaten der Patienten\n",
        "for daten in range(patientsBielefeld.__len__()): # Die Daten werden mit Hilfe einer Schleife ausgelesen\n",
        "    locationLat=patientsBielefeld[\"LAT\"][daten]\n",
        "    locationLon=patientsBielefeld[\"LON\"][daten]\n",
        "    standortListeBielefeld.append((locationLat, locationLon))\n",
        "\n",
        "geomapBielefeld=fol.Map(location=[51.151509, 10.217850], zoom_start=6) \n",
        "\n",
        "#für die Clusteranzeige\n",
        "marker_cluster = MarkerCluster().add_to(geomapBielefeld)\n",
        "for point in range(0,patientsBielefeld.__len__()):\n",
        "    fol.Marker(standortListeBielefeld[point]).add_to(marker_cluster)\n",
        "geomapBielefeld"
      ],
      "execution_count": null,
      "outputs": []
    },
    {
      "cell_type": "markdown",
      "metadata": {
        "id": "UEfNAMxGAdnO"
      },
      "source": [
        "### Histogramm nach Geburtsjahr"
      ]
    },
    {
      "cell_type": "code",
      "metadata": {
        "id": "sFx9WXoKAdnO"
      },
      "source": [
        "# import matplotlib.pyplot as plt\n",
        "\n",
        "# Nur das Jahr der Gebursdaten wird betrachtet.\n",
        "geburtsjahrlisteBielefeld=patientsBielefeld[\"BIRTHDATE\"].dt.year.tolist()\n",
        "# Die Geburtsdaten werden je nach Geschlecht in einer Liste abgelegt um sie getrennt voneinander darstellen zu können.\n",
        "frauenlisteGeburtBielefeld=patientsBielefeld[\"BIRTHDATE\"].loc[patientsBielefeld[\"GENDER\"]==\"F\"].dt.year.tolist()\n",
        "männerlisteGeburtBielefeld=patientsBielefeld[\"BIRTHDATE\"].loc[patientsBielefeld[\"GENDER\"]==\"M\"].dt.year.tolist()\n",
        "diverslisteGeburtBielefeld=patientsBielefeld[\"BIRTHDATE\"].loc[(patientsBielefeld[\"GENDER\"]!=\"F\") &(patientsBielefeld[\"GENDER\"]!=\"M\")].dt.year.tolist()\n",
        "\n",
        "\n",
        "\n",
        "plt.hist(data=patientsBielefeld, x=frauenlisteGeburtBielefeld, bins=5, color=\"red\", label=\"F\")\n",
        "plt.hist(data=patientsBielefeld, x=männerlisteGeburtBielefeld, bins=5, color=\"green\", label=\"M\")\n",
        "# plt.hist(data=patientsBielefeld, x=diverslisteGeburtBielefeld, bins=5, color=\"white\", label=\"D\") # nicht befüllt\n",
        "plt.legend()\n",
        "plt.show()"
      ],
      "execution_count": null,
      "outputs": []
    },
    {
      "cell_type": "markdown",
      "metadata": {
        "id": "-AYAsGuZAdnP"
      },
      "source": [
        "### Alter berechnen & Histogramm nach Alter"
      ]
    },
    {
      "cell_type": "code",
      "metadata": {
        "id": "rMDF5zluAdnQ"
      },
      "source": [
        "#import datetime\n",
        "\n",
        "aktuellesDatum= datetime.date.today()\n",
        "\n",
        "# wenn kein Todesdatum hinterlegt ist, wird das aktuelle Jahr eingetragen\n",
        "patientsBielefeld[\"DEATHDATE\"]=patientsBielefeld[\"DEATHDATE\"].fillna(aktuellesDatum)\n",
        "patientsBielefeld[\"DEATHDATE\"]=pd.to_datetime(patientsBielefeld.DEATHDATE, format=\"%Y-%m-%d\")\n",
        "todeslistegesamtBielefeld=patientsBielefeld[\"DEATHDATE\"].dt.year.tolist()\n",
        "\n",
        "# DieTodesdaten den Geschlechtern zugeordnet\n",
        "frauentodBielefeld=patientsBielefeld[\"DEATHDATE\"].loc[patientsBielefeld[\"GENDER\"]==\"F\"].dt.year.tolist()\n",
        "männertodBielefeld=patientsBielefeld[\"DEATHDATE\"].loc[patientsBielefeld[\"GENDER\"]==\"M\"].dt.year.tolist()\n",
        "diverstodBielefeld=patientsBielefeld[\"DEATHDATE\"].loc[(patientsBielefeld[\"GENDER\"]!=\"F\") &(patientsBielefeld[\"GENDER\"]!=\"M\")].dt.year.tolist()\n",
        "\n",
        "\n",
        "\n",
        "zaehlerGesamtAlter=0\n",
        "\n",
        "gesamtAlterBielefeld=[]\n",
        "# Mit Hilfe einer Schleife wird das Alter berechnet\n",
        "# Dafür wird durch die Liste der jeweiligen Todesdaten iteriert und schließlich an dieser Stelle das Geburtsjahr genommen\n",
        "# Mit Hilfe dieser Daten wird das Alter berechnet und dieses in eine neue Liste hinzugefügt\n",
        "for todesjahrBielefeld in todeslistegesamtBielefeld:\n",
        "    geburtsjahrBielefeld=geburtsjahrlisteBielefeld[zaehlerGesamtAlter]\n",
        "    altergesamtBielefeld=todesjahrBielefeld-geburtsjahrBielefeld\n",
        "    gesamtAlterBielefeld.append(altergesamtBielefeld)\n",
        "    zaehlerGesamtAlter=zaehlerGesamtAlter+1\n",
        "\n",
        "patientsBielefeld[\"AGE\"]=gesamtAlterBielefeld\n",
        "# Das Alter wird erneut je nach Geschlecht ermittelt um die Geschlechter unabhängig von einander darstellen zu können.\n",
        "frauenalterListeBielefeld=patientsBielefeld[\"AGE\"].loc[patientsBielefeld[\"GENDER\"]==\"F\"].tolist()\n",
        "männeralterListeBielefeld=patientsBielefeld[\"AGE\"].loc[patientsBielefeld[\"GENDER\"]==\"M\"].tolist()\n",
        "diversalterListe=patientsBielefeld[\"AGE\"].loc[(patientsBielefeld[\"GENDER\"]!=\"F\") &(patientsBielefeld[\"GENDER\"]!=\"M\")].tolist()\n",
        "\n",
        "plt.hist(data=patientsBielefeld, x=frauenalterListeBielefeld, bins=5, color=\"red\", label=\"F\")\n",
        "plt.hist(data=patientsBielefeld, x=männeralterListeBielefeld, bins=5, color=\"green\", label=\"M\")\n",
        "plt.xlabel('Alter')\n",
        "plt.ylabel('Anzahl')\n",
        "plt.legend()\n",
        "plt.show()"
      ],
      "execution_count": null,
      "outputs": []
    },
    {
      "cell_type": "markdown",
      "metadata": {
        "id": "5adZKTQ1AdnR"
      },
      "source": [
        "### Diagnosen laden"
      ]
    },
    {
      "cell_type": "code",
      "metadata": {
        "id": "MLg2Q-LlAdnR"
      },
      "source": [
        "diagnosenBielefeld=pd.read_csv(base_url+\"rohdaten/bielefeld/csv/conditions.csv\",parse_dates=[\"START\"], date_parser=dateparse)\n",
        "diagnosenBielefeld.head()"
      ],
      "execution_count": null,
      "outputs": []
    },
    {
      "cell_type": "markdown",
      "metadata": {
        "id": "47nOsV_fAdnR"
      },
      "source": [
        "### Exploration der Diagnosen"
      ]
    },
    {
      "cell_type": "code",
      "metadata": {
        "id": "Jx5-uYxmAdnS"
      },
      "source": [
        "diagnosenBielefeld.groupby('DESCRIPTION').count().plot(kind=\"bar\")\n"
      ],
      "execution_count": null,
      "outputs": []
    },
    {
      "cell_type": "markdown",
      "metadata": {
        "id": "fQWZfq9GAdnS"
      },
      "source": [
        "### Top-10 Diagnosen"
      ]
    },
    {
      "cell_type": "code",
      "metadata": {
        "id": "quwyd2D8AdnS"
      },
      "source": [
        "# Für die Top Diagnosen wird erst das Vorkommen gezählt und davon die ersten 10 genommen, also jene mit der größten Anzahl\n",
        "diagnosenBielefeld[\"DESCRIPTION\"].value_counts()[:10].plot(kind=\"bar\")"
      ],
      "execution_count": null,
      "outputs": []
    },
    {
      "cell_type": "markdown",
      "metadata": {
        "id": "LopRWISkAdnT"
      },
      "source": [
        "## Auswertung der Daten\n",
        "\n",
        "### Patient:innen mit Covid-19-Diagnosen auswählen"
      ]
    },
    {
      "cell_type": "code",
      "metadata": {
        "id": "kl2Ltal8AdnT"
      },
      "source": [
        "diagnosenBielefeldcovid=pd.DataFrame(diagnosenBielefeld.PATIENT[diagnosenBielefeld.DESCRIPTION==\"COVID-19\"])\n",
        "diagnosenBielefeldcovid.head()"
      ],
      "execution_count": null,
      "outputs": []
    },
    {
      "cell_type": "markdown",
      "metadata": {
        "id": "qcCavOSiAdnU"
      },
      "source": [
        "### Ergänzung demographische Angaben"
      ]
    },
    {
      "cell_type": "code",
      "metadata": {
        "id": "MQg9FHnTAdnU"
      },
      "source": [
        "# Die Spalte wird für den merge umbenannt\n",
        "patientsBielefeld=patientsBielefeld.rename(columns={\"Id\":\"PATIENT\"})\n",
        "\n",
        "# Daten werden zusammengeführt\n",
        "bielefeldDiagnosenundPatienten=diagnosenBielefeldcovid.merge(patientsBielefeld, how=\"inner\", on=\"PATIENT\")\n",
        "bielefeldDiagnosenundPatienten = bielefeldDiagnosenundPatienten[['PATIENT', 'BIRTHDATE', 'DEATHDATE', 'GENDER','AGE', 'CITY']]\n",
        "bielefeldDiagnosenundPatienten"
      ],
      "execution_count": null,
      "outputs": []
    },
    {
      "cell_type": "markdown",
      "metadata": {
        "id": "yEHQuzrqAdnU"
      },
      "source": [
        "### Ableitung Vitalstatus aus Todesdatum"
      ]
    },
    {
      "cell_type": "code",
      "metadata": {
        "id": "BGX39EVBAdnU"
      },
      "source": [
        "#import math\n",
        "#import arrow\n",
        "vitalstatuslisteBielefeld=[]\n",
        "aktuellesJahr= datetime.date.today().year\n",
        "\n",
        "\n",
        "# Die Schleife geht erneut die Todesdaten durch.\n",
        "# Wenn kein Datum existiert wird davon ausgegangen, dass der Patient lebt\n",
        "for todesdatum in bielefeldDiagnosenundPatienten[\"DEATHDATE\"]:\n",
        "    todesdatum=arrow.get(todesdatum).year\n",
        "    if todesdatum==aktuellesJahr:\n",
        "        vitalstatus=\"ALIVE\"\n",
        "        vitalstatuslisteBielefeld.append(vitalstatus)\n",
        "    else:\n",
        "        vitalstatus=\"DEATH\"\n",
        "        vitalstatuslisteBielefeld.append(vitalstatus)\n",
        "\n",
        "bielefeldDiagnosenundPatienten[\"VITALSTATUS\"]=vitalstatuslisteBielefeld\n",
        "bielefeldDiagnosenundPatienten.head()"
      ],
      "execution_count": null,
      "outputs": []
    },
    {
      "cell_type": "markdown",
      "metadata": {
        "id": "H83nS92xAdnV"
      },
      "source": [
        "### Boxplot Alter vs. Vitalstatus"
      ]
    },
    {
      "cell_type": "code",
      "metadata": {
        "id": "4opayqnGAdnV"
      },
      "source": [
        "bielefeldDiagnosenundPatienten.boxplot(column=[\"AGE\"],by=[\"VITALSTATUS\"])"
      ],
      "execution_count": null,
      "outputs": []
    },
    {
      "cell_type": "markdown",
      "metadata": {
        "id": "nL92wnX0AdnW"
      },
      "source": [
        "### Selektion der Begleitdiagnosen der Kohorte"
      ]
    },
    {
      "cell_type": "code",
      "metadata": {
        "id": "VLUVuNEeAdnW"
      },
      "source": [
        "nebendiagnosenBielefeld=diagnosenBielefeld.merge(bielefeldDiagnosenundPatienten, on=\"PATIENT\")\n",
        "nebendiagnosenBielefeld=nebendiagnosenBielefeld[(nebendiagnosenBielefeld[\"DESCRIPTION\"]!=\"COVID-19\")&(nebendiagnosenBielefeld[\"DESCRIPTION\"]!= \"Suspected COVID-19\")]\n",
        "nebendiagnosenBielefeld"
      ],
      "execution_count": null,
      "outputs": []
    },
    {
      "cell_type": "markdown",
      "metadata": {
        "id": "4WuQN1D5AdnW"
      },
      "source": [
        "   ### Top-10 Begleitdiagnosen der Kohorte"
      ]
    },
    {
      "cell_type": "code",
      "metadata": {
        "id": "v3Qg9axxAdnW"
      },
      "source": [
        "nebendiagnosenBielefeld[\"DESCRIPTION\"].value_counts()[:10].plot(kind=\"bar\")"
      ],
      "execution_count": null,
      "outputs": []
    },
    {
      "cell_type": "markdown",
      "metadata": {
        "id": "OCQ0PgV7AdnX"
      },
      "source": [
        "### Reduktion auf Nebendiagnosen Adipositas, Erschöpfung & Atemnot"
      ]
    },
    {
      "cell_type": "code",
      "metadata": {
        "id": "y0hJWyCcAdnX"
      },
      "source": [
        "reduzierteNebendiagnosenBielefeld=nebendiagnosenBielefeld[(nebendiagnosenBielefeld[\"DESCRIPTION\"]==\"Body mass index 30+ - obesity (finding)\")|(nebendiagnosenBielefeld[\"DESCRIPTION\"]==\"Fatigue (finding)\")|(nebendiagnosenBielefeld[\"DESCRIPTION\"]==\"Respiratory distress (finding)\")]\n",
        "reduzierteNebendiagnosenBielefeld=reduzierteNebendiagnosenBielefeld.loc[:,[\"PATIENT\", \"DESCRIPTION\"]]\n",
        "reduzierteNebendiagnosenBielefeld=reduzierteNebendiagnosenBielefeld.groupby('PATIENT').apply(lambda grp: grp.assign(DIAGNOSISPRESENT=1))\n",
        "\n",
        "reduziertUmgeordnetBielefeld=pd.pivot(data=reduzierteNebendiagnosenBielefeld, columns=\"DESCRIPTION\", values=\"DIAGNOSISPRESENT\",index=\"PATIENT\")\n",
        "reduziertUmgenanntBielefeld=reduziertUmgeordnetBielefeld.rename(columns={\"Body mass index 30+ - obesity (finding)\":\"OBESITY\",\"Fatigue (finding)\":\"FATIGUE\", \"Respiratory distress (finding)\":\"RESPIRATORY_DISTRESS\" })\n",
        "\n",
        "reduziertNebendiagnosenundPatientenBielefeld=bielefeldDiagnosenundPatienten.merge(reduziertUmgenanntBielefeld, on=\"PATIENT\")\n",
        "reduziertNebendiagnosenundPatientenBielefeld"
      ],
      "execution_count": null,
      "outputs": []
    },
    {
      "cell_type": "markdown",
      "metadata": {
        "id": "P_AQXSHBAdnX"
      },
      "source": [
        "### Generierung lokal aggregierter Zwischenergebnisse für die Merkmale"
      ]
    },
    {
      "cell_type": "code",
      "metadata": {
        "id": "Gg1oQJVHAdnX"
      },
      "source": [
        "del reduziertNebendiagnosenundPatientenBielefeld[\"AGE\"]\n",
        "lokalAggregiertBielefeld=reduziertNebendiagnosenundPatientenBielefeld.groupby(\"VITALSTATUS\",dropna=True).sum()\n",
        "lokalAggregiertBielefeld"
      ],
      "execution_count": null,
      "outputs": []
    },
    {
      "cell_type": "markdown",
      "metadata": {
        "id": "cHW8RhWJAdnY"
      },
      "source": [
        "### Chi-Quadrat-Test zwischen Vitalstatus & Nebendiagnosen durchführen"
      ]
    },
    {
      "cell_type": "code",
      "metadata": {
        "id": "-15L2sgzAdnY"
      },
      "source": [
        "# from scipy.stats import chi2_contingency\n",
        "# import seaborn as sns\n",
        "\n",
        "chi2,p, df, expctd= chi2_contingency(lokalAggregiertBielefeld)\n",
        "print(\"x-squared= \", chi2, \"p-value= \",p, \"df= \", df, \"\\n expected= \", expctd)\n",
        "\n",
        "sns.heatmap(lokalAggregiertBielefeld, cmap ='RdYlGn', linewidths = 0.30)\n"
      ],
      "execution_count": null,
      "outputs": []
    },
    {
      "cell_type": "markdown",
      "metadata": {
        "id": "67Uaj4AWAdnY"
      },
      "source": [
        "## Mannheimer Daten laden & identisch aufbereiten"
      ]
    },
    {
      "cell_type": "code",
      "metadata": {
        "id": "Q9IRBtqWAdnY"
      },
      "source": [
        "#import pandas as pd\n",
        "#import math\n",
        "#import datetime\n",
        "#import arrow\n",
        "base_url=\"https://raw.githubusercontent.com/miracum/c19ss2021/master/uebung-5/\"\n",
        "dateparse = lambda x: datetime.datetime.strptime(x, '%Y-%m-%d')\n",
        "\n",
        "# Daten Mannheim laden\n",
        "patientsMannheim=pd.read_csv(base_url+\"rohdaten/mannheim/csv/patients.csv\", parse_dates=['BIRTHDATE'], date_parser=dateparse)\n",
        "diagnosenMannheim=pd.read_csv(base_url+\"rohdaten/mannheim/csv/conditions.csv\",parse_dates=[\"START\"], date_parser=dateparse)\n",
        "\n",
        "# Alter ergänzen\n",
        "aktuellesDatum = datetime.date.today()\n",
        "\n",
        "geburtsjahrlisteMannheim=patientsMannheim[\"BIRTHDATE\"].dt.year.tolist()\n",
        "patientsMannheim[\"DEATHDATE\"]=patientsMannheim[\"DEATHDATE\"].fillna(aktuellesDatum)\n",
        "patientsMannheim[\"DEATHDATE\"]=pd.to_datetime(patientsMannheim.DEATHDATE, format=\"%Y-%m-%d\")\n",
        "todeslistegesamtMannheim=patientsMannheim[\"DEATHDATE\"].dt.year.tolist()\n",
        "\n",
        "\n",
        "\n",
        "zaehlerGesamtAlter=0\n",
        "\n",
        "gesamtAlterMannheim=[]\n",
        "for todesjahrMannheim in todeslistegesamtMannheim:\n",
        "    geburtsjahrMannheim=geburtsjahrlisteMannheim[zaehlerGesamtAlter]\n",
        "    altergesamtMannheim=todesjahrMannheim-geburtsjahrMannheim\n",
        "    gesamtAlterMannheim.append(altergesamtMannheim)\n",
        "    zaehlerGesamtAlter=zaehlerGesamtAlter+1\n",
        "\n",
        "patientsMannheim[\"AGE\"]=gesamtAlterMannheim\n",
        "\n",
        "# Patient:innen mit Covid\n",
        "diagnosenMannheimcovid=pd.DataFrame(diagnosenMannheim.PATIENT[diagnosenMannheim.DESCRIPTION==\"COVID-19\"])\n",
        "\n",
        "# Ergänzung demographische Daten\n",
        "patientsMannheim=patientsMannheim.rename(columns={\"Id\":\"PATIENT\"})\n",
        "mannheimDiagnosenundPatienten=diagnosenMannheimcovid.merge(patientsMannheim, how=\"inner\", on=\"PATIENT\")\n",
        "mannheimDiagnosenundPatienten = mannheimDiagnosenundPatienten[['PATIENT', 'BIRTHDATE', 'DEATHDATE', 'GENDER','AGE', 'CITY']]\n",
        "mannheimDiagnosenundPatienten\n",
        "\n",
        "# Vitalstatus ergänzen\n",
        "\n",
        "aktuellesJahr = datetime.date.today().year\n",
        "\n",
        "vitalstatuslisteMannheim=[]\n",
        "\n",
        "for todesdatum in mannheimDiagnosenundPatienten[\"DEATHDATE\"]:\n",
        "    todesdatum=arrow.get(todesdatum).year\n",
        "    if todesdatum==aktuellesJahr:\n",
        "            vitalstatus=\"ALIVE\"\n",
        "            vitalstatuslisteMannheim.append(vitalstatus)\n",
        "    else:\n",
        "        vitalstatus=\"DEATH\"\n",
        "        vitalstatuslisteMannheim.append(vitalstatus)\n",
        "\n",
        "mannheimDiagnosenundPatienten[\"VITALSTATUS\"]=vitalstatuslisteMannheim\n",
        "\n",
        "# Begleitdiagnosen bestimmen\n",
        "nebendiagnosenMannheim=diagnosenMannheim.merge(mannheimDiagnosenundPatienten, on=\"PATIENT\")\n",
        "nebendiagnosenMannheim=nebendiagnosenMannheim[(nebendiagnosenMannheim[\"DESCRIPTION\"]!=\"COVID-19\")&(nebendiagnosenMannheim[\"DESCRIPTION\"]!= \"Suspected COVID-19\")]\n",
        "\n",
        "# Zu untersuchende Nebendiagnosen (Adipositas, Erschöpfung und Atemnot) auslesen\n",
        "reduzierteNebendiagnosenMannheim=nebendiagnosenMannheim[(nebendiagnosenMannheim[\"DESCRIPTION\"]==\"Body mass index 30+ - obesity (finding)\")|(nebendiagnosenMannheim[\"DESCRIPTION\"]==\"Fatigue (finding)\")|(nebendiagnosenMannheim[\"DESCRIPTION\"]==\"Respiratory distress (finding)\")]\n",
        "reduzierteNebendiagnosenMannheim=reduzierteNebendiagnosenMannheim.loc[:,[\"PATIENT\", \"DESCRIPTION\"]]\n",
        "reduzierteNebendiagnosenMannheim=reduzierteNebendiagnosenMannheim.groupby('PATIENT').apply(lambda grp: grp.assign(DIAGNOSISPRESENT=1))\n",
        "\n",
        "reduziertUmgeordnetMannheim=pd.pivot(data=reduzierteNebendiagnosenMannheim, columns=\"DESCRIPTION\", values=\"DIAGNOSISPRESENT\",index=\"PATIENT\")\n",
        "reduziertUmgenanntMannheim=reduziertUmgeordnetMannheim.rename(columns={\"Body mass index 30+ - obesity (finding)\":\"OBESITY\",\"Fatigue (finding)\":\"FATIGUE\", \"Respiratory distress (finding)\":\"RESPIRATORY_DISTRESS\" })\n",
        "\n",
        "reduziertNebendiagnosenundPatientenMannheim=mannheimDiagnosenundPatienten.merge(reduziertUmgenanntMannheim, on=\"PATIENT\")\n"
      ],
      "execution_count": null,
      "outputs": []
    },
    {
      "cell_type": "markdown",
      "metadata": {
        "id": "8T2P2uL2AdnZ"
      },
      "source": [
        "### Generierung lokal aggregierter Zwischenergebnisse für die Merkmale Mannheim"
      ]
    },
    {
      "cell_type": "code",
      "metadata": {
        "id": "z5pYnQnFAdnZ"
      },
      "source": [
        "del reduziertNebendiagnosenundPatientenMannheim[\"AGE\"]\n",
        "lokalAggregiertMannheim=reduziertNebendiagnosenundPatientenMannheim.groupby(\"VITALSTATUS\",dropna=True).sum()\n",
        "lokalAggregiertMannheim"
      ],
      "execution_count": null,
      "outputs": []
    },
    {
      "cell_type": "markdown",
      "metadata": {
        "id": "mrTweYeNAdna"
      },
      "source": [
        "### Chi-Quadrat-Test für Mannheimer-Daten durchführen"
      ]
    },
    {
      "cell_type": "code",
      "metadata": {
        "id": "WhfWXIIPAdna"
      },
      "source": [
        "#from scipy.stats import chi2_contingency\n",
        "#import seaborn as sns\n",
        "\n",
        "chi2,p, df, expctd= chi2_contingency(lokalAggregiertMannheim)\n",
        "print(\"x-squared= \", chi2, \"p-value= \",p, \"df= \", df, \"\\n expected= \", expctd)\n",
        "\n",
        "sns.heatmap(lokalAggregiertMannheim, cmap ='RdYlGn', linewidths = 0.30)"
      ],
      "execution_count": null,
      "outputs": []
    },
    {
      "cell_type": "markdown",
      "metadata": {
        "id": "wLclZipXAdna"
      },
      "source": [
        "## Leipziger Daten laden & identisch aufbereiten"
      ]
    },
    {
      "cell_type": "code",
      "metadata": {
        "id": "69_r_q0ZAdnb"
      },
      "source": [
        "#import pandas as pd\n",
        "#import math\n",
        "#import datetime\n",
        "#import arrow\n",
        "base_url=\"https://raw.githubusercontent.com/miracum/c19ss2021/master/uebung-5/\"\n",
        "dateparse = lambda x: datetime.datetime.strptime(x, '%Y-%m-%d')\n",
        "\n",
        "# Daten Leipzig laden\n",
        "patientsLeipzig=pd.read_csv(base_url+\"rohdaten/leipzig/csv/patients.csv\", parse_dates=['BIRTHDATE'], date_parser=dateparse)\n",
        "diagnosenLeipzig=pd.read_csv(base_url+\"rohdaten/leipzig/csv/conditions.csv\",parse_dates=[\"START\"], date_parser=dateparse)\n",
        "\n",
        "# Alter ergänzen\n",
        "aktuellesDatum = datetime.date.today()\n",
        "\n",
        "geburtsjahrlisteLeipzig=patientsLeipzig[\"BIRTHDATE\"].dt.year.tolist()\n",
        "patientsLeipzig[\"DEATHDATE\"]=patientsLeipzig[\"DEATHDATE\"].fillna(aktuellesDatum)\n",
        "patientsLeipzig[\"DEATHDATE\"]=pd.to_datetime(patientsLeipzig.DEATHDATE, format=\"%Y-%m-%d\")\n",
        "todeslistegesamtLeipzig=patientsLeipzig[\"DEATHDATE\"].dt.year.tolist()\n",
        "\n",
        "\n",
        "\n",
        "zaehlerGesamtAlter=0\n",
        "\n",
        "gesamtAlterLeipzig=[]\n",
        "for todesjahrLeipzig in todeslistegesamtLeipzig:\n",
        "    geburtsjahrLeipzig=geburtsjahrlisteLeipzig[zaehlerGesamtAlter]\n",
        "    altergesamtLeipzig=todesjahrLeipzig-geburtsjahrLeipzig\n",
        "    gesamtAlterLeipzig.append(altergesamtLeipzig)\n",
        "    zaehlerGesamtAlter=zaehlerGesamtAlter+1\n",
        "\n",
        "patientsLeipzig[\"AGE\"]=gesamtAlterLeipzig\n",
        "# Patient:innen mit Covid\n",
        "diagnosenLeipzigcovid=pd.DataFrame(diagnosenLeipzig.PATIENT[diagnosenLeipzig.DESCRIPTION==\"COVID-19\"])\n",
        "\n",
        "# Ergänzung demographische Daten\n",
        "patientsLeipzig=patientsLeipzig.rename(columns={\"Id\":\"PATIENT\"})\n",
        "leipzigDiagnosenundPatienten=diagnosenLeipzigcovid.merge(patientsLeipzig, how=\"inner\", on=\"PATIENT\")\n",
        "leipzigDiagnosenundPatienten = leipzigDiagnosenundPatienten[['PATIENT', 'BIRTHDATE', 'DEATHDATE', 'GENDER','AGE', 'CITY']]\n",
        "leipzigDiagnosenundPatienten\n",
        "\n",
        "# Vitalstatus ergänzen\n",
        "aktuellesJahr= datetime.date.today().year\n",
        "vitalstatuslisteLeipzig=[]\n",
        "\n",
        "for todesdatum in leipzigDiagnosenundPatienten[\"DEATHDATE\"]:\n",
        "    todesdatum=arrow.get(todesdatum).year\n",
        "    if todesdatum==aktuellesJahr:\n",
        "            vitalstatus=\"ALIVE\"\n",
        "            vitalstatuslisteLeipzig.append(vitalstatus)\n",
        "    else:\n",
        "        vitalstatus=\"DEATH\"\n",
        "        vitalstatuslisteLeipzig.append(vitalstatus)\n",
        "\n",
        "leipzigDiagnosenundPatienten[\"VITALSTATUS\"]=vitalstatuslisteLeipzig\n",
        "\n",
        "# Begleitdiagnosen bestimmen\n",
        "nebendiagnosenLeipzig=diagnosenLeipzig.merge(leipzigDiagnosenundPatienten, on=\"PATIENT\")\n",
        "nebendiagnosenLeipzig=nebendiagnosenLeipzig[(nebendiagnosenLeipzig[\"DESCRIPTION\"]!=\"COVID-19\")&(nebendiagnosenLeipzig[\"DESCRIPTION\"]!= \"Suspected COVID-19\")]\n",
        "\n",
        "# Zu untersuchende Nebendiagnosen (Adipositas, Erschöpfung und Atemnot) auslesen\n",
        "reduzierteNebendiagnosenLeipzig=nebendiagnosenLeipzig[(nebendiagnosenLeipzig[\"DESCRIPTION\"]==\"Body mass index 30+ - obesity (finding)\")|(nebendiagnosenLeipzig[\"DESCRIPTION\"]==\"Fatigue (finding)\")|(nebendiagnosenLeipzig[\"DESCRIPTION\"]==\"Respiratory distress (finding)\")]\n",
        "reduzierteNebendiagnosenLeipzig=reduzierteNebendiagnosenLeipzig.loc[:,[\"PATIENT\", \"DESCRIPTION\"]]\n",
        "reduzierteNebendiagnosenLeipzig=reduzierteNebendiagnosenLeipzig.groupby('PATIENT').apply(lambda grp: grp.assign(DIAGNOSISPRESENT=1))\n",
        "\n",
        "reduziertUmgeordnetLeipzig=pd.pivot(data=reduzierteNebendiagnosenLeipzig, columns=\"DESCRIPTION\", values=\"DIAGNOSISPRESENT\",index=\"PATIENT\")\n",
        "reduziertUmgenanntLeipzig=reduziertUmgeordnetLeipzig.rename(columns={\"Body mass index 30+ - obesity (finding)\":\"OBESITY\",\"Fatigue (finding)\":\"FATIGUE\", \"Respiratory distress (finding)\":\"RESPIRATORY_DISTRESS\" })\n",
        "\n",
        "reduziertNebendiagnosenundPatientenLeipzig=leipzigDiagnosenundPatienten.merge(reduziertUmgenanntLeipzig, on=\"PATIENT\")\n"
      ],
      "execution_count": null,
      "outputs": []
    },
    {
      "cell_type": "markdown",
      "metadata": {
        "id": "Bpwn5bj5Adnb"
      },
      "source": [
        "### Generierung lokal aggregierter Zwischenergebnisse für die Merkmale Leipzig"
      ]
    },
    {
      "cell_type": "code",
      "metadata": {
        "id": "2WMhtKB5Adnb"
      },
      "source": [
        "del reduziertNebendiagnosenundPatientenLeipzig[\"AGE\"]\n",
        "lokalAggregiertLeipzig=reduziertNebendiagnosenundPatientenLeipzig.groupby(\"VITALSTATUS\",dropna=True).sum()\n",
        "lokalAggregiertLeipzig"
      ],
      "execution_count": null,
      "outputs": []
    },
    {
      "cell_type": "markdown",
      "metadata": {
        "id": "Um_1MZydAdnc"
      },
      "source": [
        "### Chi-Quadrat-Test für Leipziger-Daten durchführen"
      ]
    },
    {
      "cell_type": "code",
      "metadata": {
        "id": "aerikxedAdnc"
      },
      "source": [
        "from scipy.stats import chi2_contingency\n",
        "import seaborn as sns\n",
        "\n",
        "chi2,p, df, expctd= chi2_contingency(lokalAggregiertLeipzig)\n",
        "print(\"x-squared= \", chi2, \"p-value= \",p, \"df= \", df, \"\\n expected= \", expctd)\n",
        "\n",
        "sns.heatmap(lokalAggregiertLeipzig, cmap ='RdYlGn', linewidths = 0.30)"
      ],
      "execution_count": null,
      "outputs": []
    },
    {
      "cell_type": "markdown",
      "metadata": {
        "id": "BCOSgittAdnc"
      },
      "source": [
        "## Lokale Zwischenergebnisse der 3 Standorte zusammenführen"
      ]
    },
    {
      "cell_type": "code",
      "metadata": {
        "id": "TIs0P1GIAdnc"
      },
      "source": [
        "reduziertNebendiagnosenundPatientenAlleZusammen=reduziertNebendiagnosenundPatientenBielefeld.append([reduziertNebendiagnosenundPatientenMannheim,reduziertNebendiagnosenundPatientenLeipzig])\n",
        "\n",
        "lokalAggregiertAlleZusammen=reduziertNebendiagnosenundPatientenAlleZusammen.groupby(\"VITALSTATUS\",dropna=True).sum()\n",
        "lokalAggregiertAlleZusammen"
      ],
      "execution_count": null,
      "outputs": []
    },
    {
      "cell_type": "markdown",
      "metadata": {
        "id": "1_KHS05QAdnd"
      },
      "source": [
        "### Chi-Quadrat-Test über die zusammengeführten Daten durchführen\n"
      ]
    },
    {
      "cell_type": "code",
      "metadata": {
        "id": "npvSjS3vAdnd"
      },
      "source": [
        "from scipy.stats import chi2_contingency\n",
        "import seaborn as sns\n",
        "\n",
        "chi2,p, df, expctd= chi2_contingency(lokalAggregiertAlleZusammen)\n",
        "print(\"x-squared= \", chi2, \"p-value= \",p, \"df= \", df, \"\\n expected= \", expctd)\n",
        "\n",
        "sns.heatmap(lokalAggregiertAlleZusammen, cmap ='RdYlGn', linewidths = 0.30)"
      ],
      "execution_count": null,
      "outputs": []
    },
    {
      "cell_type": "code",
      "metadata": {
        "id": "GB2-inx1Adnd"
      },
      "source": [
        ""
      ],
      "execution_count": null,
      "outputs": []
    }
  ]
}
